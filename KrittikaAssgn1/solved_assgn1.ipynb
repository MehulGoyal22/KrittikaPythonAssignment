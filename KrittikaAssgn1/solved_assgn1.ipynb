{
 "cells": [
  {
   "cell_type": "code",
   "execution_count": 1,
   "id": "7a4887a1",
   "metadata": {},
   "outputs": [
    {
     "name": "stdout",
     "output_type": "stream",
     "text": [
      "[['Advait Mehla', 'Manager', '2022'], ['Raksha Maheshwari', 'Secretary', '2022'], ['Tamojeet', 'Convener', '2022'], ['Shlesh', 'Convener', '2022'], ['Dhananjay', 'Convener', '2022'], ['Apoorva', 'Convener', '2022'], ['Anushika', 'Convener', '2022'], ['Mayank', 'Convener', '2022'], ['Pal', 'Enthusiast', '2022'], ['Ashwin', 'Enthusiast', '2022'], ['Garv', 'Enthusiast', '2022'], ['Harshavardhan', 'Enthusiast', '2022'], ['Navdha', 'Enthusiast', '2022'], ['Ravi', 'Enthusiast', '2022'], ['Shravya', 'Enthusiast', '2022'], ['Arhaan', 'Enthusiast', '2022'], ['Manan Seth', 'Secretary', '2021'], ['Adish', 'Convener', '2021'], ['Utkarsha', 'Convener', '2021'], ['Advait', 'Convener', '2021'], ['Aditya Kudre', 'Convener', '2021'], ['Aditya Maheshwari', 'Convener', '2021'], ['Raksha', 'Convener', '2021'], ['Mohit', 'Convener', '2021'], ['Kishan', 'Convener', '2021'], ['Shreya', 'Convener', '2021'], ['Kritti', 'Manager', '2020'], ['Siddhant Tripathy', 'Secretary', '2020'], ['Ananya', 'Convener', '2020'], ['Aneesh', 'Convener', '2020'], ['Devansh', 'Convener', '2020'], ['Harshda', 'Convener', '2020'], ['Manan', 'Convener', '2020'], ['Omkar', 'Convener', '2020'], ['Soham', 'Convener', '2020'], ['Sreeman', 'Convener', '2020'], ['Unnatee', 'Convener', '2020'], ['Vaishnav', 'Convener', '2020'], ['Vedant Shenoy', 'Manager', '2019'], ['Kunal Deshmukh', 'Secretary', '2019'], ['Arsh', 'Convener', '2019'], ['Fathima', 'Convener', '2019'], ['Kritti', 'Convener', '2019'], ['Pranav', 'Convener', '2019'], ['Shravan', 'Convener', '2019'], ['Siddhant', 'Convener', '2019']]\n"
     ]
    }
   ],
   "source": [
    "import requests\n",
    "from bs4 import BeautifulSoup\n",
    "import csv\n",
    "\n",
    "page = requests.get(\"https://krittikaiitb.github.io/team/\")\n",
    "soup = BeautifulSoup(page.content, 'html.parser')\n",
    "# print(soup.prettify())\n",
    "\n",
    "data = []\n",
    "\n",
    "names = []\n",
    "\n",
    "designations = []\n",
    "\n",
    "\n",
    "for name in soup.find_all('h5', attrs={\"class\":\"card-title mb-0\"})[::]:\n",
    "    data.append([name.get_text()])\n",
    "    \n",
    "\n",
    "counter = 0\n",
    "\n",
    "for designation in soup.find_all('p', attrs={\"class\":\"card-text\"})[::]:\n",
    "    data[counter].append(designation.get_text())\n",
    "    counter = counter + 1\n",
    "    \n",
    "counter = 0\n",
    "\n",
    "year = []\n",
    "\n",
    "for i in range(16):\n",
    "    data[counter].append('2022')\n",
    "    counter = counter + 1\n",
    "\n",
    "for i in range(10):\n",
    "    data[counter].append('2021')\n",
    "    counter = counter + 1\n",
    "\n",
    "for i in range(12):\n",
    "    data[counter].append('2020')\n",
    "    counter = counter + 1\n",
    "\n",
    "for i in range(8):\n",
    "    data[counter].append('2019')\n",
    "    counter = counter + 1\n",
    "    \n",
    "print(data)\n",
    "\n",
    "header = ['Name','Designation','Year']\n",
    "\n",
    "with open('teamMembers.csv','w', encoding='UTF8', newline='') as f:\n",
    "    \n",
    "    writer = csv.writer(f)\n",
    "\n",
    "    # write the header\n",
    "    writer.writerow(header)\n",
    "\n",
    "    # write multiple rows\n",
    "    writer.writerows(data)\n",
    "\n",
    "\n",
    "\n",
    "\n",
    "\n",
    "\n"
   ]
  },
  {
   "cell_type": "code",
   "execution_count": null,
   "id": "afa5ef58",
   "metadata": {},
   "outputs": [],
   "source": []
  },
  {
   "cell_type": "code",
   "execution_count": 2,
   "id": "81083644",
   "metadata": {},
   "outputs": [],
   "source": [
    "# "
   ]
  }
 ],
 "metadata": {
  "kernelspec": {
   "display_name": "Python 3 (ipykernel)",
   "language": "python",
   "name": "python3"
  },
  "language_info": {
   "codemirror_mode": {
    "name": "ipython",
    "version": 3
   },
   "file_extension": ".py",
   "mimetype": "text/x-python",
   "name": "python",
   "nbconvert_exporter": "python",
   "pygments_lexer": "ipython3",
   "version": "3.8.10"
  }
 },
 "nbformat": 4,
 "nbformat_minor": 5
}
